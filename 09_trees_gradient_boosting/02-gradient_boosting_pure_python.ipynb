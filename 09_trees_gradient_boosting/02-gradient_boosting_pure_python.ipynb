{
 "cells": [
  {
   "cell_type": "markdown",
   "metadata": {},
   "source": [
    "# Opening the box of gradient boosting decision trees (GBDT)\n",
    "\n",
    "```\n",
    "Authors: Alexandre Gramfort\n",
    "         Thomas Moreau\n",
    "```\n",
    "\n",
    "The aim of this notebook is 2-folds:\n",
    "\n",
    "- dissecting a pure Python (unoptimized) implementation of GBRT\n",
    "- use a profiler (here snakeviz) to identify the computational bottleneck.\n",
    "\n",
    "We will explore the code in the file `tinygbt.py`.\n",
    "\n",
    "TinyGBT (Tiny Gradient Boosted Trees) is a 200 line gradient boosted trees implementation written in pure Python.\n",
    "\n",
    "First let's load some regression data."
   ]
  },
  {
   "cell_type": "code",
   "execution_count": 1,
   "metadata": {},
   "outputs": [
    {
     "name": "stdout",
     "output_type": "stream",
     "text": [
      "Loading data...\n"
     ]
    }
   ],
   "source": [
    "import pandas as pd\n",
    "\n",
    "print('Loading data...')\n",
    "# load or create your dataset\n",
    "df_train = pd.read_csv('datasets/regression.train', header=None, sep='\\t')\n",
    "df_test = pd.read_csv('datasets/regression.test', header=None, sep='\\t')\n",
    "\n",
    "df = pd.concat([df_train, df_test], axis=0)\n",
    "y = df[0].values\n",
    "X = df.drop(0, axis=1).values"
   ]
  },
  {
   "cell_type": "markdown",
   "metadata": {},
   "source": [
    "Now we will split the data in train and test. Here the test data will be\n",
    "used as **validation set** to do **\"early stopping\"** i.e. to stop adding trees\n",
    "to the model if the validation loss increases for multiple successive boosting rounds."
   ]
  },
  {
   "cell_type": "code",
   "execution_count": 2,
   "metadata": {},
   "outputs": [],
   "source": [
    "from sklearn.model_selection import train_test_split\n",
    "X_train, X_test, y_train, y_test = \\\n",
    "    train_test_split(X, y, test_size=0.2, random_state=42)"
   ]
  },
  {
   "cell_type": "markdown",
   "metadata": {},
   "source": [
    "#### Now let's run our TinyGBT code"
   ]
  },
  {
   "cell_type": "code",
   "execution_count": 3,
   "metadata": {},
   "outputs": [
    {
     "name": "stdout",
     "output_type": "stream",
     "text": [
      "Start training...\n",
      "Training until validation scores don't improve for 5 rounds.\n",
      "Iter   0, Train's L2: 0.3297573059, Valid's L2: 0.3290260575, Elapsed: 9.46 secs\n",
      "Iter   1, Train's L2: 0.1973384643, Valid's L2: 0.2312291343, Elapsed: 9.15 secs\n",
      "Iter   2, Train's L2: 0.1855883850, Valid's L2: 0.2238260985, Elapsed: 9.12 secs\n",
      "Iter   3, Train's L2: 0.1828940682, Valid's L2: 0.2221369982, Elapsed: 9.22 secs\n",
      "Iter   4, Train's L2: 0.1821079667, Valid's L2: 0.2218244578, Elapsed: 9.26 secs\n",
      "Iter   5, Train's L2: 0.1819033079, Valid's L2: 0.2217383746, Elapsed: 9.33 secs\n",
      "Iter   6, Train's L2: 0.1818742550, Valid's L2: 0.2217494402, Elapsed: 9.39 secs\n",
      "Iter   7, Train's L2: 0.1818655801, Valid's L2: 0.2217527771, Elapsed: 9.66 secs\n",
      "Iter   8, Train's L2: 0.1818629813, Valid's L2: 0.2217539092, Elapsed: 9.62 secs\n",
      "Iter   9, Train's L2: 0.1818622020, Valid's L2: 0.2217542068, Elapsed: 10.38 secs\n",
      "Training finished. Elapsed: 94.60 secs\n",
      "Start predicting...\n",
      "The MSE of prediction is: 0.22173837458713327\n"
     ]
    }
   ],
   "source": [
    "from sklearn.metrics import mean_squared_error\n",
    "from tinygbt import GBT\n",
    "\n",
    "print('Start training...')\n",
    "gbt = GBT(n_estimators=10, gamma=0., lambd=1,\n",
    "          min_split_gain=0.1, max_depth=5,\n",
    "          learning_rate=0.3)\n",
    "gbt.fit(X_train, y_train, valid_set=(X_test, y_test), early_stopping_rounds=5)\n",
    "\n",
    "print('Start predicting...')\n",
    "y_pred = gbt.predict(X_test)\n",
    "print('The MSE of prediction is:', mean_squared_error(y_test, y_pred))"
   ]
  },
  {
   "cell_type": "markdown",
   "metadata": {},
   "source": [
    "Let's first make sure this code gives comparable results with [lightgbm](https://lightgbm.readthedocs.io/en/latest/)"
   ]
  },
  {
   "cell_type": "code",
   "execution_count": 5,
   "metadata": {},
   "outputs": [
    {
     "name": "stdout",
     "output_type": "stream",
     "text": [
      "Collecting lightgbm\n",
      "  Downloading lightgbm-3.3.3-py3-none-win_amd64.whl (1.0 MB)\n",
      "     ---------------------------------------- 1.0/1.0 MB 326.3 kB/s eta 0:00:00\n",
      "Requirement already satisfied: scipy in c:\\users\\remij\\miniconda3\\lib\\site-packages (from lightgbm) (1.7.3)\n",
      "Requirement already satisfied: wheel in c:\\users\\remij\\miniconda3\\lib\\site-packages (from lightgbm) (0.36.2)\n",
      "Requirement already satisfied: scikit-learn!=0.22.0 in c:\\users\\remij\\miniconda3\\lib\\site-packages (from lightgbm) (1.0.2)\n",
      "Requirement already satisfied: numpy in c:\\users\\remij\\miniconda3\\lib\\site-packages (from lightgbm) (1.21.5)\n",
      "Requirement already satisfied: threadpoolctl>=2.0.0 in c:\\users\\remij\\miniconda3\\lib\\site-packages (from scikit-learn!=0.22.0->lightgbm) (2.2.0)\n",
      "Requirement already satisfied: joblib>=0.11 in c:\\users\\remij\\miniconda3\\lib\\site-packages (from scikit-learn!=0.22.0->lightgbm) (1.1.0)\n",
      "Installing collected packages: lightgbm"
     ]
    },
    {
     "name": "stderr",
     "output_type": "stream",
     "text": [
      "WARNING: Ignoring invalid distribution -cipy (c:\\users\\remij\\miniconda3\\lib\\site-packages)\n",
      "WARNING: Ignoring invalid distribution -cipy (c:\\users\\remij\\miniconda3\\lib\\site-packages)\n",
      "WARNING: Ignoring invalid distribution -cipy (c:\\users\\remij\\miniconda3\\lib\\site-packages)\n",
      "WARNING: Ignoring invalid distribution -cipy (c:\\users\\remij\\miniconda3\\lib\\site-packages)\n",
      "WARNING: Ignoring invalid distribution -cipy (c:\\users\\remij\\miniconda3\\lib\\site-packages)\n",
      "WARNING: Ignoring invalid distribution -cipy (c:\\users\\remij\\miniconda3\\lib\\site-packages)\n",
      "WARNING: Ignoring invalid distribution -cipy (c:\\users\\remij\\miniconda3\\lib\\site-packages)\n",
      "WARNING: You are using pip version 22.0.3; however, version 22.2.2 is available.\n",
      "You should consider upgrading via the 'c:\\users\\remij\\miniconda3\\python.exe -m pip install --upgrade pip' command.\n"
     ]
    },
    {
     "name": "stdout",
     "output_type": "stream",
     "text": [
      "\n",
      "Successfully installed lightgbm-3.3.3\n"
     ]
    }
   ],
   "source": [
    "!pip install lightgbm"
   ]
  },
  {
   "cell_type": "code",
   "execution_count": 6,
   "metadata": {},
   "outputs": [
    {
     "name": "stdout",
     "output_type": "stream",
     "text": [
      "Starting training...\n",
      "[LightGBM] [Warning] Auto-choosing col-wise multi-threading, the overhead of testing was 0.002513 seconds.\n",
      "You can set `force_col_wise=true` to remove the overhead.\n",
      "[1]\tvalid_0's l2: 0.24476\n",
      "Training until validation scores don't improve for 5 rounds\n",
      "[2]\tvalid_0's l2: 0.240434\n",
      "[3]\tvalid_0's l2: 0.23635\n",
      "[4]\tvalid_0's l2: 0.23319\n",
      "[5]\tvalid_0's l2: 0.229775\n",
      "[6]\tvalid_0's l2: 0.226677\n",
      "[7]\tvalid_0's l2: 0.224287\n",
      "[8]\tvalid_0's l2: 0.22183\n",
      "[9]\tvalid_0's l2: 0.219645\n",
      "[10]\tvalid_0's l2: 0.217964\n",
      "Did not meet early stopping. Best iteration is:\n",
      "[10]\tvalid_0's l2: 0.217964\n",
      "Saving model...\n",
      "Starting predicting...\n",
      "The MSE of prediction is: 0.21796435968378255\n"
     ]
    },
    {
     "name": "stderr",
     "output_type": "stream",
     "text": [
      "C:\\Users\\remij\\Miniconda3\\lib\\site-packages\\lightgbm\\engine.py:181: UserWarning: 'early_stopping_rounds' argument is deprecated and will be removed in a future release of LightGBM. Pass 'early_stopping()' callback via 'callbacks' argument instead.\n",
      "  _log_warning(\"'early_stopping_rounds' argument is deprecated and will be removed in a future release of LightGBM. \"\n"
     ]
    }
   ],
   "source": [
    "import lightgbm as lgb\n",
    "\n",
    "# create dataset for lightgbm\n",
    "lgb_train = lgb.Dataset(X_train, y_train)\n",
    "lgb_eval = lgb.Dataset(X_test, y_test, reference=lgb_train)\n",
    "\n",
    "# specify your configurations as a dict\n",
    "params = {\n",
    "    'boosting_type': 'gbdt',\n",
    "    'objective': 'regression',\n",
    "    'metric': {'l2'},\n",
    "    'num_leaves': 31,\n",
    "    'learning_rate': 0.05,\n",
    "    'feature_fraction': 1.,\n",
    "    'bagging_fraction': 1.,\n",
    "    'bagging_freq': 1,\n",
    "    'verbose': 0\n",
    "}\n",
    "\n",
    "print('Starting training...')\n",
    "# train\n",
    "gbm = lgb.train(params,\n",
    "                lgb_train,\n",
    "                num_boost_round=10,\n",
    "                valid_sets=lgb_eval,\n",
    "                early_stopping_rounds=5)\n",
    "\n",
    "print('Saving model...')\n",
    "# save model to file\n",
    "gbm.save_model('model.txt')\n",
    "\n",
    "print('Starting predicting...')\n",
    "# predict\n",
    "y_pred = gbm.predict(X_test, num_iteration=gbm.best_iteration)\n",
    "# eval\n",
    "rmse_test = mean_squared_error(y_test, y_pred)\n",
    "print(f'The MSE of prediction is: {rmse_test}')"
   ]
  },
  {
   "cell_type": "markdown",
   "metadata": {},
   "source": [
    "And also with scikit-learn [HistGradientBoostingRegressor](https://scikit-learn.org/stable/modules/generated/sklearn.ensemble.HistGradientBoostingRegressor.html)"
   ]
  },
  {
   "cell_type": "code",
   "execution_count": 7,
   "metadata": {},
   "outputs": [
    {
     "name": "stdout",
     "output_type": "stream",
     "text": [
      "The MSE of prediction is: 0.19818811241253062\n"
     ]
    }
   ],
   "source": [
    "# from sklearn.experimental import enable_hist_gradient_boosting  # uncomment this for sklearn < 1.0\n",
    "from sklearn.ensemble import HistGradientBoostingRegressor\n",
    "est = HistGradientBoostingRegressor(\n",
    "    max_iter=10,\n",
    "    validation_fraction=0.2,\n",
    "    random_state=42,\n",
    "    l2_regularization=0.,\n",
    "    min_samples_leaf=20,\n",
    "    learning_rate=0.3,\n",
    "    n_iter_no_change=5).fit(X_train, y_train)\n",
    "y_pred = est.predict(X_test)\n",
    "rmse_test = mean_squared_error(y_test, y_pred)\n",
    "print(f'The MSE of prediction is: {rmse_test}')"
   ]
  },
  {
   "cell_type": "markdown",
   "metadata": {},
   "source": [
    "### Let's do a round of profiling using snakeviz\n",
    "\n",
    "While lightgbm is implemented in C++ and HistGradientBoostingRegressor with Cython, our TinyGBT is implemented in pure Python. The consequence is that our code is much slower. To identify the computational bottleneck let's profile our code. For this we will use snakeviz.\n",
    "\n",
    "There are many other profilers such as:\n",
    "- line_profiler: https://github.com/pyutils/line_profiler (easy line by line profiling for Python code)\n",
    "- viztracer: https://viztracer.readthedocs.io (allows to profile low level code including compiled Cython code)"
   ]
  },
  {
   "cell_type": "code",
   "execution_count": 10,
   "metadata": {},
   "outputs": [
    {
     "name": "stdout",
     "output_type": "stream",
     "text": [
      "Collecting snakeviz\n",
      "  Downloading snakeviz-2.1.1-py2.py3-none-any.whl (282 kB)\n",
      "     ------------------------------------ 282.1/282.1 KB 622.0 kB/s eta 0:00:00\n",
      "Requirement already satisfied: tornado>=2.0 in c:\\users\\remij\\miniconda3\\lib\\site-packages (from snakeviz) (6.2)\n",
      "Installing collected packages: snakeviz\n",
      "Successfully installed snakeviz-2.1.1\n"
     ]
    },
    {
     "name": "stderr",
     "output_type": "stream",
     "text": [
      "WARNING: Ignoring invalid distribution -cipy (c:\\users\\remij\\miniconda3\\lib\\site-packages)\n",
      "WARNING: Ignoring invalid distribution -cipy (c:\\users\\remij\\miniconda3\\lib\\site-packages)\n",
      "WARNING: Ignoring invalid distribution -cipy (c:\\users\\remij\\miniconda3\\lib\\site-packages)\n",
      "WARNING: Ignoring invalid distribution -cipy (c:\\users\\remij\\miniconda3\\lib\\site-packages)\n",
      "WARNING: Ignoring invalid distribution -cipy (c:\\users\\remij\\miniconda3\\lib\\site-packages)\n",
      "WARNING: Ignoring invalid distribution -cipy (c:\\users\\remij\\miniconda3\\lib\\site-packages)\n",
      "WARNING: Ignoring invalid distribution -cipy (c:\\users\\remij\\miniconda3\\lib\\site-packages)\n",
      "WARNING: You are using pip version 22.0.3; however, version 22.2.2 is available.\n",
      "You should consider upgrading via the 'c:\\users\\remij\\miniconda3\\python.exe -m pip install --upgrade pip' command.\n"
     ]
    }
   ],
   "source": [
    "!pip install snakeviz"
   ]
  },
  {
   "cell_type": "code",
   "execution_count": 11,
   "metadata": {},
   "outputs": [
    {
     "name": "stdout",
     "output_type": "stream",
     "text": [
      "Training until validation scores don't improve for 5 rounds.\n",
      "Iter   0, Train's L2: 0.3276311657, Valid's L2: 0.3273884558, Elapsed: 9.96 secs\n",
      "Iter   1, Train's L2: 0.2025118186, Valid's L2: 0.2397435622, Elapsed: 10.06 secs\n",
      "Training finished. Elapsed: 20.02 secs\n",
      " \n",
      "*** Profile stats marshalled to file 'C:\\\\Users\\\\remij\\\\AppData\\\\Local\\\\Temp\\\\tmpklhg871m'. \n",
      "Embedding SnakeViz in this document...\n"
     ]
    },
    {
     "data": {
      "text/html": [
       "\n",
       "<iframe id='snakeviz-e3d62864-4ae3-11ed-9f3d-d8f2ca5ea43d' frameborder=0 seamless width='100%' height='1000'></iframe>\n",
       "<script>document.getElementById(\"snakeviz-e3d62864-4ae3-11ed-9f3d-d8f2ca5ea43d\").setAttribute(\"src\", \"http://\" + document.location.hostname + \":8080/snakeviz/C%3A%5CUsers%5Cremij%5CAppData%5CLocal%5CTemp%5Ctmpklhg871m\")</script>\n"
      ],
      "text/plain": [
       "<IPython.core.display.HTML object>"
      ]
     },
     "metadata": {},
     "output_type": "display_data"
    }
   ],
   "source": [
    "%load_ext snakeviz\n",
    "\n",
    "gbt = GBT(n_estimators=2,  # do only two rounds of boosting\n",
    "          gamma=0., lambd=1,\n",
    "          min_split_gain=0.1, max_depth=5,\n",
    "          learning_rate=0.3)\n",
    "\n",
    "%snakeviz gbt.fit(X_train, y_train, valid_set=(X_test, y_test), early_stopping_rounds=5)"
   ]
  },
  {
   "cell_type": "markdown",
   "metadata": {},
   "source": [
    "<div class=\"alert alert-success\">\n",
    "    <b>EXERCISE</b>:\n",
    "     <ul>\n",
    "         <li>Where is most of the time spent?</li>\n",
    "         <li>What is the complexity of the <code>TreeNode.build</code> method as a function of the number of samples and the number of features?</li>\n",
    "         <li>What could we do about this?</li>\n",
    "     </ul>\n",
    "</div>"
   ]
  },
  {
   "cell_type": "code",
   "execution_count": null,
   "metadata": {},
   "outputs": [],
   "source": []
  }
 ],
 "metadata": {
  "kernelspec": {
   "display_name": "Python 3",
   "language": "python",
   "name": "python3"
  },
  "language_info": {
   "codemirror_mode": {
    "name": "ipython",
    "version": 3
   },
   "file_extension": ".py",
   "mimetype": "text/x-python",
   "name": "python",
   "nbconvert_exporter": "python",
   "pygments_lexer": "ipython3",
   "version": "3.7.3"
  }
 },
 "nbformat": 4,
 "nbformat_minor": 4
}
