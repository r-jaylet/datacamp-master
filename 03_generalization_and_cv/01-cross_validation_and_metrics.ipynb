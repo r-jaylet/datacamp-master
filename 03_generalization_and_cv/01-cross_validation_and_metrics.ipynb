{
 "cells": [
  {
   "cell_type": "markdown",
   "metadata": {},
   "source": [
    "# Evaluate your machine-learning model"
   ]
  },
  {
   "cell_type": "markdown",
   "metadata": {},
   "source": [
    "A core question in machine learning is how to evaluate such model once we created it. In this notebook, we aim at presenting how you should answer this question in a statistically sound way. We will first present the benefit of using cross-validation and have a quick look at the different strategies as well as the metrics that should be used in supervised learning."
   ]
  },
  {
   "cell_type": "code",
   "execution_count": 2,
   "metadata": {},
   "outputs": [],
   "source": [
    "%matplotlib inline\n",
    "import matplotlib.pyplot as plt\n",
    "import numpy as np\n",
    "import pandas as pd\n",
    "import seaborn as sns"
   ]
  },
  {
   "cell_type": "markdown",
   "metadata": {},
   "source": [
    "## Benefit of cross-validation"
   ]
  },
  {
   "cell_type": "markdown",
   "metadata": {},
   "source": [
    "### Load our dataset"
   ]
  },
  {
   "cell_type": "markdown",
   "metadata": {},
   "source": [
    "To illustrate our discussion, we will use the California housing dataset. This dataset is a regression problem in which we want to estimate the median housing value given housing information."
   ]
  },
  {
   "cell_type": "code",
   "execution_count": 3,
   "metadata": {},
   "outputs": [],
   "source": [
    "from sklearn.datasets import fetch_california_housing\n",
    "\n",
    "X, y = fetch_california_housing(return_X_y=True, as_frame=True)\n",
    "y *= 100"
   ]
  },
  {
   "cell_type": "code",
   "execution_count": 4,
   "metadata": {},
   "outputs": [
    {
     "data": {
      "text/html": [
       "<div>\n",
       "<style scoped>\n",
       "    .dataframe tbody tr th:only-of-type {\n",
       "        vertical-align: middle;\n",
       "    }\n",
       "\n",
       "    .dataframe tbody tr th {\n",
       "        vertical-align: top;\n",
       "    }\n",
       "\n",
       "    .dataframe thead th {\n",
       "        text-align: right;\n",
       "    }\n",
       "</style>\n",
       "<table border=\"1\" class=\"dataframe\">\n",
       "  <thead>\n",
       "    <tr style=\"text-align: right;\">\n",
       "      <th></th>\n",
       "      <th>MedInc</th>\n",
       "      <th>HouseAge</th>\n",
       "      <th>AveRooms</th>\n",
       "      <th>AveBedrms</th>\n",
       "      <th>Population</th>\n",
       "      <th>AveOccup</th>\n",
       "      <th>Latitude</th>\n",
       "      <th>Longitude</th>\n",
       "    </tr>\n",
       "  </thead>\n",
       "  <tbody>\n",
       "    <tr>\n",
       "      <th>0</th>\n",
       "      <td>8.3252</td>\n",
       "      <td>41.0</td>\n",
       "      <td>6.984127</td>\n",
       "      <td>1.023810</td>\n",
       "      <td>322.0</td>\n",
       "      <td>2.555556</td>\n",
       "      <td>37.88</td>\n",
       "      <td>-122.23</td>\n",
       "    </tr>\n",
       "    <tr>\n",
       "      <th>1</th>\n",
       "      <td>8.3014</td>\n",
       "      <td>21.0</td>\n",
       "      <td>6.238137</td>\n",
       "      <td>0.971880</td>\n",
       "      <td>2401.0</td>\n",
       "      <td>2.109842</td>\n",
       "      <td>37.86</td>\n",
       "      <td>-122.22</td>\n",
       "    </tr>\n",
       "    <tr>\n",
       "      <th>2</th>\n",
       "      <td>7.2574</td>\n",
       "      <td>52.0</td>\n",
       "      <td>8.288136</td>\n",
       "      <td>1.073446</td>\n",
       "      <td>496.0</td>\n",
       "      <td>2.802260</td>\n",
       "      <td>37.85</td>\n",
       "      <td>-122.24</td>\n",
       "    </tr>\n",
       "    <tr>\n",
       "      <th>3</th>\n",
       "      <td>5.6431</td>\n",
       "      <td>52.0</td>\n",
       "      <td>5.817352</td>\n",
       "      <td>1.073059</td>\n",
       "      <td>558.0</td>\n",
       "      <td>2.547945</td>\n",
       "      <td>37.85</td>\n",
       "      <td>-122.25</td>\n",
       "    </tr>\n",
       "    <tr>\n",
       "      <th>4</th>\n",
       "      <td>3.8462</td>\n",
       "      <td>52.0</td>\n",
       "      <td>6.281853</td>\n",
       "      <td>1.081081</td>\n",
       "      <td>565.0</td>\n",
       "      <td>2.181467</td>\n",
       "      <td>37.85</td>\n",
       "      <td>-122.25</td>\n",
       "    </tr>\n",
       "  </tbody>\n",
       "</table>\n",
       "</div>"
      ],
      "text/plain": [
       "   MedInc  HouseAge  AveRooms  AveBedrms  Population  AveOccup  Latitude  \\\n",
       "0  8.3252      41.0  6.984127   1.023810       322.0  2.555556     37.88   \n",
       "1  8.3014      21.0  6.238137   0.971880      2401.0  2.109842     37.86   \n",
       "2  7.2574      52.0  8.288136   1.073446       496.0  2.802260     37.85   \n",
       "3  5.6431      52.0  5.817352   1.073059       558.0  2.547945     37.85   \n",
       "4  3.8462      52.0  6.281853   1.081081       565.0  2.181467     37.85   \n",
       "\n",
       "   Longitude  \n",
       "0    -122.23  \n",
       "1    -122.22  \n",
       "2    -122.24  \n",
       "3    -122.25  \n",
       "4    -122.25  "
      ]
     },
     "execution_count": 4,
     "metadata": {},
     "output_type": "execute_result"
    }
   ],
   "source": [
    "X.head()"
   ]
  },
  {
   "cell_type": "code",
   "execution_count": 5,
   "metadata": {},
   "outputs": [
    {
     "data": {
      "text/plain": [
       "0    452.6\n",
       "1    358.5\n",
       "2    352.1\n",
       "3    341.3\n",
       "4    342.2\n",
       "Name: MedHouseVal, dtype: float64"
      ]
     },
     "execution_count": 5,
     "metadata": {},
     "output_type": "execute_result"
    }
   ],
   "source": [
    "y.head()"
   ]
  },
  {
   "cell_type": "markdown",
   "metadata": {},
   "source": [
    "### Emperical error vs. generalization error"
   ]
  },
  {
   "cell_type": "markdown",
   "metadata": {},
   "source": [
    "Let's start by creating a regressor which will be a decision tree."
   ]
  },
  {
   "cell_type": "code",
   "execution_count": 6,
   "metadata": {},
   "outputs": [],
   "source": [
    "from sklearn.tree import DecisionTreeRegressor\n",
    "\n",
    "regressor = DecisionTreeRegressor()"
   ]
  },
  {
   "cell_type": "markdown",
   "metadata": {},
   "source": [
    "Let's first train our regressor on the full dataset."
   ]
  },
  {
   "cell_type": "code",
   "execution_count": 7,
   "metadata": {},
   "outputs": [
    {
     "data": {
      "text/plain": [
       "DecisionTreeRegressor()"
      ]
     },
     "execution_count": 7,
     "metadata": {},
     "output_type": "execute_result"
    }
   ],
   "source": [
    "regressor.fit(X, y)"
   ]
  },
  {
   "cell_type": "markdown",
   "metadata": {},
   "source": [
    "Now that our regressor is trained, we can check the regressor performance. For this purpose, we will use the mean absolute error which will give us an error in the native unit of the target, i.e. k$."
   ]
  },
  {
   "cell_type": "code",
   "execution_count": 8,
   "metadata": {},
   "outputs": [
    {
     "name": "stdout",
     "output_type": "stream",
     "text": [
      "In average, our regressor make an error of 0.00 k$\n"
     ]
    }
   ],
   "source": [
    "from sklearn.metrics import mean_absolute_error\n",
    "\n",
    "y_pred = regressor.predict(X)\n",
    "score = mean_absolute_error(y_pred, y)\n",
    "print(f\"In average, our regressor make an error of {score:.2f} k$\")"
   ]
  },
  {
   "cell_type": "markdown",
   "metadata": {},
   "source": [
    "<div class=\"alert alert-success\">\n",
    "    <b>QUESTION</b>:\n",
    "     <ul>\n",
    "     <li>Are you surprised to get such performance with this regressor?</li>\n",
    "     <li>Do you expect this regressor to perform this way in production?</li>\n",
    "     </ul>\n",
    "</div>"
   ]
  },
  {
   "cell_type": "markdown",
   "metadata": {},
   "source": [
    "Surprisingly or not, our regressor is perfect. However, we are currently not able to confirm if our model would work on future unseen data. We can simulate this stage by splitting out our dataset into two datasets and keep a dataset out of the learning process."
   ]
  },
  {
   "cell_type": "code",
   "execution_count": 9,
   "metadata": {},
   "outputs": [],
   "source": [
    "from sklearn.model_selection import train_test_split\n",
    "\n",
    "X_train, X_test, y_train, y_test = train_test_split(\n",
    "    X, y, random_state=0\n",
    ")"
   ]
  },
  {
   "cell_type": "code",
   "execution_count": 10,
   "metadata": {},
   "outputs": [
    {
     "data": {
      "text/plain": [
       "DecisionTreeRegressor()"
      ]
     },
     "execution_count": 10,
     "metadata": {},
     "output_type": "execute_result"
    }
   ],
   "source": [
    "regressor.fit(X_train, y_train)"
   ]
  },
  {
   "cell_type": "code",
   "execution_count": 11,
   "metadata": {},
   "outputs": [
    {
     "name": "stdout",
     "output_type": "stream",
     "text": [
      "In average, our regressor make an error of 0.00 k$\n"
     ]
    }
   ],
   "source": [
    "y_pred = regressor.predict(X_train)\n",
    "score = mean_absolute_error(y_pred, y_train)\n",
    "print(f\"In average, our regressor make an error of {score:.2f} k$\")"
   ]
  },
  {
   "cell_type": "markdown",
   "metadata": {},
   "source": [
    "When evaluating our regressor on the training data, we still get a perfect model. This error is called the **emperical error**. Let see, if we get as lucky on the left-out dataset."
   ]
  },
  {
   "cell_type": "code",
   "execution_count": 12,
   "metadata": {},
   "outputs": [
    {
     "name": "stdout",
     "output_type": "stream",
     "text": [
      "In average, our regressor make an error of 47.28 k$\n"
     ]
    }
   ],
   "source": [
    "y_pred = regressor.predict(X_test)\n",
    "score = mean_absolute_error(y_pred, y_test)\n",
    "print(f\"In average, our regressor make an error of {score:.2f} k$\")"
   ]
  },
  {
   "cell_type": "markdown",
   "metadata": {},
   "source": [
    "... and not. By evaluating our model on a left-out set, we are checking that our model will be able to work on unseen data and thus if it is able to generalize. This type of error computed is called **generalization error**. This error is the one that any data scientist hopes to decrease when creating a model."
   ]
  },
  {
   "cell_type": "markdown",
   "metadata": {},
   "source": [
    "<div class=\"alert alert-success\">\n",
    "    <b>QUESTION</b>:\n",
    "     <ul>\n",
    "     <li>Are we sure that our algorithm is robust?</li>\n",
    "     </ul>\n",
    "</div>"
   ]
  },
  {
   "cell_type": "markdown",
   "metadata": {},
   "source": [
    "<div class=\"alert alert-info\">\n",
    "    <h3>Generalization error:</h3>\n",
    "     The aim of model training is to select the model $f$ out of a class of models $\\mathcal F$ that minimizes a measure of the risk. The risk is measured with a loss $l$ between the true value $y$ associated to $x$ and the prediction $f(x)$ and thus we want to find:  \n",
    "        $$\n",
    "        f^\\star = \\arg\\min_{f \\in \\mathcal F}\\mathbb E_{(x, y) \\sim \\pi}[l(f(x), y]\n",
    "        $$  \n",
    "    The issue is that we cannot compute the expectation $\\mathbb E_{(x, y) \\sim \\pi}$ because we don't know the input distribution $\\pi$. Therefor, we approximate it with a set of examples $\\{(x_1, y_1), \\dots (x_N, y_N)\\}$ drawn <i>i.i.d.</i> from $\\pi$ and use the <b>Empirical Risk Minimization</b> (ERM):\n",
    "        $$\n",
    "        \\widehat{f} = \\arg\\min_{f \\in \\mathcal F}\\frac1N\\sum_{i=1}^Nl(f(x_i), y_i]\n",
    "        $$\n",
    "    If the samples are drawn independently, we know that the error has a variance of $\\mathcal O\\left(\\frac{1}{\\sqrt{N}}\\right)$. Thus there is a gap between the minimizer of the risk and the minimizer of the empirical risk. If we optimize too much for the ERM, the gap might be big and the selected model will have bad performance on unseen data. This is what is called <b>over-fitting</b>. To control, this, one need to have a measure of the risk independent from the measure of the risk which is used to select the model: the Empircal Risk on the test set!\n",
    "</div>\n"
   ]
  },
  {
   "cell_type": "markdown",
   "metadata": {},
   "source": [
    "### A single error is not enough, what about the variance?"
   ]
  },
  {
   "cell_type": "markdown",
   "metadata": {},
   "source": [
    "While we were able to estimate the generalization error, we are indeed unable to know anything about the variance of our model and thus if it is robust our not. This is where the framework of cross-validation is used. Indeed, we can repeat our experiment and compute several time our generalization error and get intuition about the stability of our model."
   ]
  },
  {
   "cell_type": "markdown",
   "metadata": {},
   "source": [
    "The simpler way that we can think about is to shuffle our data and split into two sets has we previously did and repeat several time our experiment. In scikit-learn, using the function `cross_validate` with the cross-validation `ShuffleSplit` allows us to make such evaluation."
   ]
  },
  {
   "cell_type": "code",
   "execution_count": 13,
   "metadata": {},
   "outputs": [
    {
     "name": "stdout",
     "output_type": "stream",
     "text": [
      "Wall time: 4.72 s\n"
     ]
    },
    {
     "data": {
      "text/plain": [
       "{'fit_time': array([0.17896605, 0.17896605, 0.18746495, 0.17987013, 0.16212082,\n",
       "        0.16975117, 0.17281318, 0.16630411, 0.1726017 , 0.1570189 ,\n",
       "        0.15700889, 0.17263579, 0.17424154, 0.17424154, 0.18623686,\n",
       "        0.18824124, 0.1566186 , 0.17224121, 0.17283511, 0.17283511,\n",
       "        0.17289066, 0.17289066, 0.18820858, 0.17259502, 0.17263126,\n",
       "        0.18825603, 0.19278073, 0.19187188, 0.16090035, 0.16852951]),\n",
       " 'score_time': array([0.01566195, 0.        , 0.00799203, 0.00799465, 0.015625  ,\n",
       "        0.00650907, 0.        , 0.        , 0.        , 0.01562452,\n",
       "        0.01562691, 0.        , 0.        , 0.        , 0.00200438,\n",
       "        0.        , 0.01562262, 0.        , 0.        , 0.        ,\n",
       "        0.        , 0.        , 0.        , 0.        , 0.        ,\n",
       "        0.00501776, 0.        , 0.        , 0.        , 0.        ]),\n",
       " 'test_score': array([-46.37649855, -45.62855766, -45.67570058, -45.62894428,\n",
       "        -46.79851696, -45.54928997, -45.98475848, -42.86907607,\n",
       "        -46.77579457, -45.35721124, -48.54510223, -44.5619811 ,\n",
       "        -45.41181298, -47.02676502, -45.90934472, -45.99105305,\n",
       "        -47.05854482, -46.23308697, -45.30212524, -46.29989511,\n",
       "        -46.76739002, -44.07603343, -44.35798643, -46.83717854,\n",
       "        -45.95740431, -44.64575654, -46.82305402, -44.87831323,\n",
       "        -48.05457485, -46.08090722])}"
      ]
     },
     "execution_count": 13,
     "metadata": {},
     "output_type": "execute_result"
    }
   ],
   "source": [
    "%%time\n",
    "from sklearn.model_selection import cross_validate\n",
    "from sklearn.model_selection import ShuffleSplit\n",
    "\n",
    "cv = ShuffleSplit(n_splits=30, test_size=0.2)\n",
    "\n",
    "result_cv = cross_validate(\n",
    "    regressor, X, y, cv=cv, scoring=\"neg_mean_absolute_error\",\n",
    "    n_jobs=2\n",
    ")\n",
    "result_cv"
   ]
  },
  {
   "cell_type": "markdown",
   "metadata": {},
   "source": [
    "Once our cross-validation is done, we see that we got a Python dictionary with information regarding the cross-validation. Let's use a pandas dataframe to easily explore the content of the results."
   ]
  },
  {
   "cell_type": "code",
   "execution_count": 14,
   "metadata": {},
   "outputs": [
    {
     "data": {
      "text/html": [
       "<div>\n",
       "<style scoped>\n",
       "    .dataframe tbody tr th:only-of-type {\n",
       "        vertical-align: middle;\n",
       "    }\n",
       "\n",
       "    .dataframe tbody tr th {\n",
       "        vertical-align: top;\n",
       "    }\n",
       "\n",
       "    .dataframe thead th {\n",
       "        text-align: right;\n",
       "    }\n",
       "</style>\n",
       "<table border=\"1\" class=\"dataframe\">\n",
       "  <thead>\n",
       "    <tr style=\"text-align: right;\">\n",
       "      <th></th>\n",
       "      <th>fit_time</th>\n",
       "      <th>score_time</th>\n",
       "      <th>test_score</th>\n",
       "    </tr>\n",
       "  </thead>\n",
       "  <tbody>\n",
       "    <tr>\n",
       "      <th>0</th>\n",
       "      <td>0.178966</td>\n",
       "      <td>0.015662</td>\n",
       "      <td>-46.376499</td>\n",
       "    </tr>\n",
       "    <tr>\n",
       "      <th>1</th>\n",
       "      <td>0.178966</td>\n",
       "      <td>0.000000</td>\n",
       "      <td>-45.628558</td>\n",
       "    </tr>\n",
       "    <tr>\n",
       "      <th>2</th>\n",
       "      <td>0.187465</td>\n",
       "      <td>0.007992</td>\n",
       "      <td>-45.675701</td>\n",
       "    </tr>\n",
       "    <tr>\n",
       "      <th>3</th>\n",
       "      <td>0.179870</td>\n",
       "      <td>0.007995</td>\n",
       "      <td>-45.628944</td>\n",
       "    </tr>\n",
       "    <tr>\n",
       "      <th>4</th>\n",
       "      <td>0.162121</td>\n",
       "      <td>0.015625</td>\n",
       "      <td>-46.798517</td>\n",
       "    </tr>\n",
       "    <tr>\n",
       "      <th>5</th>\n",
       "      <td>0.169751</td>\n",
       "      <td>0.006509</td>\n",
       "      <td>-45.549290</td>\n",
       "    </tr>\n",
       "    <tr>\n",
       "      <th>6</th>\n",
       "      <td>0.172813</td>\n",
       "      <td>0.000000</td>\n",
       "      <td>-45.984758</td>\n",
       "    </tr>\n",
       "    <tr>\n",
       "      <th>7</th>\n",
       "      <td>0.166304</td>\n",
       "      <td>0.000000</td>\n",
       "      <td>-42.869076</td>\n",
       "    </tr>\n",
       "    <tr>\n",
       "      <th>8</th>\n",
       "      <td>0.172602</td>\n",
       "      <td>0.000000</td>\n",
       "      <td>-46.775795</td>\n",
       "    </tr>\n",
       "    <tr>\n",
       "      <th>9</th>\n",
       "      <td>0.157019</td>\n",
       "      <td>0.015625</td>\n",
       "      <td>-45.357211</td>\n",
       "    </tr>\n",
       "    <tr>\n",
       "      <th>10</th>\n",
       "      <td>0.157009</td>\n",
       "      <td>0.015627</td>\n",
       "      <td>-48.545102</td>\n",
       "    </tr>\n",
       "    <tr>\n",
       "      <th>11</th>\n",
       "      <td>0.172636</td>\n",
       "      <td>0.000000</td>\n",
       "      <td>-44.561981</td>\n",
       "    </tr>\n",
       "    <tr>\n",
       "      <th>12</th>\n",
       "      <td>0.174242</td>\n",
       "      <td>0.000000</td>\n",
       "      <td>-45.411813</td>\n",
       "    </tr>\n",
       "    <tr>\n",
       "      <th>13</th>\n",
       "      <td>0.174242</td>\n",
       "      <td>0.000000</td>\n",
       "      <td>-47.026765</td>\n",
       "    </tr>\n",
       "    <tr>\n",
       "      <th>14</th>\n",
       "      <td>0.186237</td>\n",
       "      <td>0.002004</td>\n",
       "      <td>-45.909345</td>\n",
       "    </tr>\n",
       "    <tr>\n",
       "      <th>15</th>\n",
       "      <td>0.188241</td>\n",
       "      <td>0.000000</td>\n",
       "      <td>-45.991053</td>\n",
       "    </tr>\n",
       "    <tr>\n",
       "      <th>16</th>\n",
       "      <td>0.156619</td>\n",
       "      <td>0.015623</td>\n",
       "      <td>-47.058545</td>\n",
       "    </tr>\n",
       "    <tr>\n",
       "      <th>17</th>\n",
       "      <td>0.172241</td>\n",
       "      <td>0.000000</td>\n",
       "      <td>-46.233087</td>\n",
       "    </tr>\n",
       "    <tr>\n",
       "      <th>18</th>\n",
       "      <td>0.172835</td>\n",
       "      <td>0.000000</td>\n",
       "      <td>-45.302125</td>\n",
       "    </tr>\n",
       "    <tr>\n",
       "      <th>19</th>\n",
       "      <td>0.172835</td>\n",
       "      <td>0.000000</td>\n",
       "      <td>-46.299895</td>\n",
       "    </tr>\n",
       "    <tr>\n",
       "      <th>20</th>\n",
       "      <td>0.172891</td>\n",
       "      <td>0.000000</td>\n",
       "      <td>-46.767390</td>\n",
       "    </tr>\n",
       "    <tr>\n",
       "      <th>21</th>\n",
       "      <td>0.172891</td>\n",
       "      <td>0.000000</td>\n",
       "      <td>-44.076033</td>\n",
       "    </tr>\n",
       "    <tr>\n",
       "      <th>22</th>\n",
       "      <td>0.188209</td>\n",
       "      <td>0.000000</td>\n",
       "      <td>-44.357986</td>\n",
       "    </tr>\n",
       "    <tr>\n",
       "      <th>23</th>\n",
       "      <td>0.172595</td>\n",
       "      <td>0.000000</td>\n",
       "      <td>-46.837179</td>\n",
       "    </tr>\n",
       "    <tr>\n",
       "      <th>24</th>\n",
       "      <td>0.172631</td>\n",
       "      <td>0.000000</td>\n",
       "      <td>-45.957404</td>\n",
       "    </tr>\n",
       "    <tr>\n",
       "      <th>25</th>\n",
       "      <td>0.188256</td>\n",
       "      <td>0.005018</td>\n",
       "      <td>-44.645757</td>\n",
       "    </tr>\n",
       "    <tr>\n",
       "      <th>26</th>\n",
       "      <td>0.192781</td>\n",
       "      <td>0.000000</td>\n",
       "      <td>-46.823054</td>\n",
       "    </tr>\n",
       "    <tr>\n",
       "      <th>27</th>\n",
       "      <td>0.191872</td>\n",
       "      <td>0.000000</td>\n",
       "      <td>-44.878313</td>\n",
       "    </tr>\n",
       "    <tr>\n",
       "      <th>28</th>\n",
       "      <td>0.160900</td>\n",
       "      <td>0.000000</td>\n",
       "      <td>-48.054575</td>\n",
       "    </tr>\n",
       "    <tr>\n",
       "      <th>29</th>\n",
       "      <td>0.168530</td>\n",
       "      <td>0.000000</td>\n",
       "      <td>-46.080907</td>\n",
       "    </tr>\n",
       "  </tbody>\n",
       "</table>\n",
       "</div>"
      ],
      "text/plain": [
       "    fit_time  score_time  test_score\n",
       "0   0.178966    0.015662  -46.376499\n",
       "1   0.178966    0.000000  -45.628558\n",
       "2   0.187465    0.007992  -45.675701\n",
       "3   0.179870    0.007995  -45.628944\n",
       "4   0.162121    0.015625  -46.798517\n",
       "5   0.169751    0.006509  -45.549290\n",
       "6   0.172813    0.000000  -45.984758\n",
       "7   0.166304    0.000000  -42.869076\n",
       "8   0.172602    0.000000  -46.775795\n",
       "9   0.157019    0.015625  -45.357211\n",
       "10  0.157009    0.015627  -48.545102\n",
       "11  0.172636    0.000000  -44.561981\n",
       "12  0.174242    0.000000  -45.411813\n",
       "13  0.174242    0.000000  -47.026765\n",
       "14  0.186237    0.002004  -45.909345\n",
       "15  0.188241    0.000000  -45.991053\n",
       "16  0.156619    0.015623  -47.058545\n",
       "17  0.172241    0.000000  -46.233087\n",
       "18  0.172835    0.000000  -45.302125\n",
       "19  0.172835    0.000000  -46.299895\n",
       "20  0.172891    0.000000  -46.767390\n",
       "21  0.172891    0.000000  -44.076033\n",
       "22  0.188209    0.000000  -44.357986\n",
       "23  0.172595    0.000000  -46.837179\n",
       "24  0.172631    0.000000  -45.957404\n",
       "25  0.188256    0.005018  -44.645757\n",
       "26  0.192781    0.000000  -46.823054\n",
       "27  0.191872    0.000000  -44.878313\n",
       "28  0.160900    0.000000  -48.054575\n",
       "29  0.168530    0.000000  -46.080907"
      ]
     },
     "execution_count": 14,
     "metadata": {},
     "output_type": "execute_result"
    }
   ],
   "source": [
    "result_cv = pd.DataFrame(result_cv)\n",
    "result_cv"
   ]
  },
  {
   "cell_type": "markdown",
   "metadata": {},
   "source": [
    "We got information about the training and testing time which we can discard for the moment. However, we see that we got the `test_score` which is our generalization scores. We have 30 numbers because we repeated 30 times the same experiment by shuffling the data. Now, we can plot the distribution of these results."
   ]
  },
  {
   "cell_type": "code",
   "execution_count": 18,
   "metadata": {},
   "outputs": [
    {
     "data": {
      "image/png": "[encoded data removed]",
      "text/plain": [
       "<Figure size 432x288 with 1 Axes>"
      ]
     },
     "metadata": {
      "needs_background": "light"
     },
     "output_type": "display_data"
    }
   ],
   "source": [
    "sns.distplot(-result_cv[\"test_score\"], kde=True, bins=20)\n",
    "_ = plt.xlabel(\"Mean absolute error (k$)\")"
   ]
  },
  {
   "cell_type": "code",
   "execution_count": 25,
   "metadata": {},
   "outputs": [
    {
     "data": {
      "text/plain": [
       "<AxesSubplot:ylabel='Frequency'>"
      ]
     },
     "execution_count": 25,
     "metadata": {},
     "output_type": "execute_result"
    },
    {
     "data": {
      "image/png": "[encoded data removed]",
      "text/plain": [
       "<Figure size 432x288 with 1 Axes>"
      ]
     },
     "metadata": {
      "needs_background": "light"
     },
     "output_type": "display_data"
    }
   ],
   "source": [
    "result_cv[\"test_score\"].apply(lambda x: -x).plot(kind='hist', bins=20)"
   ]
  },
  {
   "cell_type": "markdown",
   "metadata": {},
   "source": [
    "We can observe that the generalization error is centered around 45.5 k\\\\$ and range from 44 k\\\\$ to 47 k\\\\$."
   ]
  },
  {
   "cell_type": "markdown",
   "metadata": {},
   "source": [
    "<div class=\"alert alert-success\">\n",
    "    <b>EXERCISE</b>:\n",
    "     <ul>\n",
    "     <li>Can we conclude anything about the performance of our regressor?</li>\n",
    "     <li>Can we conclude anything about our cross-validation analysis?</li>\n",
    "     </ul>\n",
    "    <b>Hint: </b>Plot the distribution of the target.\n",
    "</div>"
   ]
  },
  {
   "cell_type": "markdown",
   "metadata": {},
   "source": [
    "To be able to know if we can use our cross-validation results, we should put them into perspective with the problem that we try to solve. To know more about this, we can check the distribution of the original target (which we should have done beforehand)."
   ]
  },
  {
   "cell_type": "code",
   "execution_count": 27,
   "metadata": {},
   "outputs": [
    {
     "data": {
      "text/plain": [
       "<AxesSubplot:ylabel='Frequency'>"
      ]
     },
     "execution_count": 27,
     "metadata": {},
     "output_type": "execute_result"
    },
    {
     "data": {
      "image/png": "[encoded data removed]",
      "text/plain": [
       "<Figure size 432x288 with 1 Axes>"
      ]
     },
     "metadata": {
      "needs_background": "light"
     },
     "output_type": "display_data"
    }
   ],
   "source": [
    "y.plot(kind='hist')"
   ]
  },
  {
   "cell_type": "code",
   "execution_count": 30,
   "metadata": {},
   "outputs": [
    {
     "data": {
      "image/png": "[encoded data removed]",
      "text/plain": [
       "<Figure size 432x288 with 1 Axes>"
      ]
     },
     "metadata": {
      "needs_background": "light"
     },
     "output_type": "display_data"
    }
   ],
   "source": [
    "# %load solutions/solution_1.py\n",
    "sns.distplot(y, kde=True, bins=20)\n",
    "_ = plt.xlabel(\"Median Housing Value ($)\")"
   ]
  },
  {
   "cell_type": "markdown",
   "metadata": {},
   "source": [
    "We see that the median value range from 50 k\\\\$ up to 500 k\\\\$. Thus an error range of 3 k\\\\$ means that our cross-validation results can be trusted and do not suffer from an execessive variance. Regarding the performance of our model itself, we can see that making an error of 45 k\\\\$ would be problematic even more if this happen for housing with low value. However, we also see some limitation regarding the metric that we are using. Making an error of 45 k\\\\$ for a target at 50 k\\\\$ and at 500 k\\\\$ should not have the same impact. We should instead use the mean absolute percentage error which will give a relative error."
   ]
  },
  {
   "cell_type": "markdown",
   "metadata": {},
   "source": [
    "<div class=\"alert alert-success\">\n",
    "    <b>EXERCISE</b>:\n",
    "     <ul>\n",
    "     <li>Check the distribution of the training errors similarly to what we did for the generalization errors.</li>\n",
    "     <li>What can you conclude?</li>\n",
    "     </ul>\n",
    "</div>"
   ]
  },
  {
   "cell_type": "markdown",
   "metadata": {},
   "source": [
    "What about the emperical error?"
   ]
  },
  {
   "cell_type": "code",
   "execution_count": 22,
   "metadata": {},
   "outputs": [
    {
     "data": {
      "text/html": [
       "<div>\n",
       "<style scoped>\n",
       "    .dataframe tbody tr th:only-of-type {\n",
       "        vertical-align: middle;\n",
       "    }\n",
       "\n",
       "    .dataframe tbody tr th {\n",
       "        vertical-align: top;\n",
       "    }\n",
       "\n",
       "    .dataframe thead th {\n",
       "        text-align: right;\n",
       "    }\n",
       "</style>\n",
       "<table border=\"1\" class=\"dataframe\">\n",
       "  <thead>\n",
       "    <tr style=\"text-align: right;\">\n",
       "      <th></th>\n",
       "      <th>fit_time</th>\n",
       "      <th>score_time</th>\n",
       "      <th>test_score</th>\n",
       "      <th>train_score</th>\n",
       "    </tr>\n",
       "  </thead>\n",
       "  <tbody>\n",
       "    <tr>\n",
       "      <th>0</th>\n",
       "      <td>0.170669</td>\n",
       "      <td>0.015657</td>\n",
       "      <td>-46.483084</td>\n",
       "      <td>-1.518854e-14</td>\n",
       "    </tr>\n",
       "    <tr>\n",
       "      <th>1</th>\n",
       "      <td>0.141078</td>\n",
       "      <td>0.000000</td>\n",
       "      <td>-44.020582</td>\n",
       "      <td>-1.115043e-14</td>\n",
       "    </tr>\n",
       "    <tr>\n",
       "      <th>2</th>\n",
       "      <td>0.141565</td>\n",
       "      <td>0.000000</td>\n",
       "      <td>-47.056152</td>\n",
       "      <td>-1.129157e-14</td>\n",
       "    </tr>\n",
       "    <tr>\n",
       "      <th>3</th>\n",
       "      <td>0.161016</td>\n",
       "      <td>0.000000</td>\n",
       "      <td>-45.522350</td>\n",
       "      <td>-1.579443e-14</td>\n",
       "    </tr>\n",
       "    <tr>\n",
       "      <th>4</th>\n",
       "      <td>0.141610</td>\n",
       "      <td>0.000000</td>\n",
       "      <td>-46.979793</td>\n",
       "      <td>-1.308858e-14</td>\n",
       "    </tr>\n",
       "    <tr>\n",
       "      <th>5</th>\n",
       "      <td>0.141112</td>\n",
       "      <td>0.015625</td>\n",
       "      <td>-47.228047</td>\n",
       "      <td>-1.547083e-14</td>\n",
       "    </tr>\n",
       "    <tr>\n",
       "      <th>6</th>\n",
       "      <td>0.150087</td>\n",
       "      <td>0.000000</td>\n",
       "      <td>-45.308155</td>\n",
       "      <td>-1.555689e-14</td>\n",
       "    </tr>\n",
       "    <tr>\n",
       "      <th>7</th>\n",
       "      <td>0.163590</td>\n",
       "      <td>0.000000</td>\n",
       "      <td>-45.412370</td>\n",
       "      <td>-3.852216e-15</td>\n",
       "    </tr>\n",
       "    <tr>\n",
       "      <th>8</th>\n",
       "      <td>0.158657</td>\n",
       "      <td>0.000000</td>\n",
       "      <td>-46.390252</td>\n",
       "      <td>-3.494190e-15</td>\n",
       "    </tr>\n",
       "    <tr>\n",
       "      <th>9</th>\n",
       "      <td>0.157257</td>\n",
       "      <td>0.000000</td>\n",
       "      <td>-47.275115</td>\n",
       "      <td>-3.330239e-15</td>\n",
       "    </tr>\n",
       "    <tr>\n",
       "      <th>10</th>\n",
       "      <td>0.166221</td>\n",
       "      <td>0.015452</td>\n",
       "      <td>-45.935623</td>\n",
       "      <td>-1.104715e-14</td>\n",
       "    </tr>\n",
       "    <tr>\n",
       "      <th>11</th>\n",
       "      <td>0.152397</td>\n",
       "      <td>0.007997</td>\n",
       "      <td>-47.515398</td>\n",
       "      <td>-1.150845e-14</td>\n",
       "    </tr>\n",
       "    <tr>\n",
       "      <th>12</th>\n",
       "      <td>0.159847</td>\n",
       "      <td>0.008031</td>\n",
       "      <td>-46.186837</td>\n",
       "      <td>-3.538943e-15</td>\n",
       "    </tr>\n",
       "    <tr>\n",
       "      <th>13</th>\n",
       "      <td>0.163326</td>\n",
       "      <td>0.008112</td>\n",
       "      <td>-46.670999</td>\n",
       "      <td>-3.724841e-15</td>\n",
       "    </tr>\n",
       "    <tr>\n",
       "      <th>14</th>\n",
       "      <td>0.163923</td>\n",
       "      <td>0.015991</td>\n",
       "      <td>-43.833715</td>\n",
       "      <td>-3.766152e-15</td>\n",
       "    </tr>\n",
       "    <tr>\n",
       "      <th>15</th>\n",
       "      <td>0.148744</td>\n",
       "      <td>0.000000</td>\n",
       "      <td>-45.903799</td>\n",
       "      <td>-1.561886e-14</td>\n",
       "    </tr>\n",
       "    <tr>\n",
       "      <th>16</th>\n",
       "      <td>0.143698</td>\n",
       "      <td>0.011037</td>\n",
       "      <td>-45.805099</td>\n",
       "      <td>-1.259974e-14</td>\n",
       "    </tr>\n",
       "    <tr>\n",
       "      <th>17</th>\n",
       "      <td>0.154867</td>\n",
       "      <td>0.000000</td>\n",
       "      <td>-45.871286</td>\n",
       "      <td>-9.174401e-15</td>\n",
       "    </tr>\n",
       "    <tr>\n",
       "      <th>18</th>\n",
       "      <td>0.155358</td>\n",
       "      <td>0.000000</td>\n",
       "      <td>-44.904621</td>\n",
       "      <td>-1.120895e-14</td>\n",
       "    </tr>\n",
       "    <tr>\n",
       "      <th>19</th>\n",
       "      <td>0.162487</td>\n",
       "      <td>0.000000</td>\n",
       "      <td>-46.194954</td>\n",
       "      <td>-1.351202e-14</td>\n",
       "    </tr>\n",
       "    <tr>\n",
       "      <th>20</th>\n",
       "      <td>0.135567</td>\n",
       "      <td>0.016891</td>\n",
       "      <td>-46.222594</td>\n",
       "      <td>-1.430380e-14</td>\n",
       "    </tr>\n",
       "    <tr>\n",
       "      <th>21</th>\n",
       "      <td>0.163958</td>\n",
       "      <td>0.000000</td>\n",
       "      <td>-43.632623</td>\n",
       "      <td>-9.219154e-15</td>\n",
       "    </tr>\n",
       "    <tr>\n",
       "      <th>22</th>\n",
       "      <td>0.175897</td>\n",
       "      <td>0.007985</td>\n",
       "      <td>-47.132065</td>\n",
       "      <td>-1.457921e-14</td>\n",
       "    </tr>\n",
       "    <tr>\n",
       "      <th>23</th>\n",
       "      <td>0.154336</td>\n",
       "      <td>0.000000</td>\n",
       "      <td>-45.679664</td>\n",
       "      <td>-3.538943e-15</td>\n",
       "    </tr>\n",
       "    <tr>\n",
       "      <th>24</th>\n",
       "      <td>0.172826</td>\n",
       "      <td>0.008023</td>\n",
       "      <td>-45.734611</td>\n",
       "      <td>-3.735169e-15</td>\n",
       "    </tr>\n",
       "    <tr>\n",
       "      <th>25</th>\n",
       "      <td>0.139914</td>\n",
       "      <td>0.000000</td>\n",
       "      <td>-45.666682</td>\n",
       "      <td>-1.087502e-14</td>\n",
       "    </tr>\n",
       "    <tr>\n",
       "      <th>26</th>\n",
       "      <td>0.141117</td>\n",
       "      <td>0.000000</td>\n",
       "      <td>-45.718234</td>\n",
       "      <td>-3.225671e-15</td>\n",
       "    </tr>\n",
       "    <tr>\n",
       "      <th>27</th>\n",
       "      <td>0.161656</td>\n",
       "      <td>0.000000</td>\n",
       "      <td>-46.639432</td>\n",
       "      <td>-3.518288e-15</td>\n",
       "    </tr>\n",
       "    <tr>\n",
       "      <th>28</th>\n",
       "      <td>0.179314</td>\n",
       "      <td>0.015661</td>\n",
       "      <td>-44.852440</td>\n",
       "      <td>-3.580254e-15</td>\n",
       "    </tr>\n",
       "    <tr>\n",
       "      <th>29</th>\n",
       "      <td>0.156738</td>\n",
       "      <td>0.000000</td>\n",
       "      <td>-44.856075</td>\n",
       "      <td>-1.379086e-14</td>\n",
       "    </tr>\n",
       "  </tbody>\n",
       "</table>\n",
       "</div>"
      ],
      "text/plain": [
       "    fit_time  score_time  test_score   train_score\n",
       "0   0.170669    0.015657  -46.483084 -1.518854e-14\n",
       "1   0.141078    0.000000  -44.020582 -1.115043e-14\n",
       "2   0.141565    0.000000  -47.056152 -1.129157e-14\n",
       "3   0.161016    0.000000  -45.522350 -1.579443e-14\n",
       "4   0.141610    0.000000  -46.979793 -1.308858e-14\n",
       "5   0.141112    0.015625  -47.228047 -1.547083e-14\n",
       "6   0.150087    0.000000  -45.308155 -1.555689e-14\n",
       "7   0.163590    0.000000  -45.412370 -3.852216e-15\n",
       "8   0.158657    0.000000  -46.390252 -3.494190e-15\n",
       "9   0.157257    0.000000  -47.275115 -3.330239e-15\n",
       "10  0.166221    0.015452  -45.935623 -1.104715e-14\n",
       "11  0.152397    0.007997  -47.515398 -1.150845e-14\n",
       "12  0.159847    0.008031  -46.186837 -3.538943e-15\n",
       "13  0.163326    0.008112  -46.670999 -3.724841e-15\n",
       "14  0.163923    0.015991  -43.833715 -3.766152e-15\n",
       "15  0.148744    0.000000  -45.903799 -1.561886e-14\n",
       "16  0.143698    0.011037  -45.805099 -1.259974e-14\n",
       "17  0.154867    0.000000  -45.871286 -9.174401e-15\n",
       "18  0.155358    0.000000  -44.904621 -1.120895e-14\n",
       "19  0.162487    0.000000  -46.194954 -1.351202e-14\n",
       "20  0.135567    0.016891  -46.222594 -1.430380e-14\n",
       "21  0.163958    0.000000  -43.632623 -9.219154e-15\n",
       "22  0.175897    0.007985  -47.132065 -1.457921e-14\n",
       "23  0.154336    0.000000  -45.679664 -3.538943e-15\n",
       "24  0.172826    0.008023  -45.734611 -3.735169e-15\n",
       "25  0.139914    0.000000  -45.666682 -1.087502e-14\n",
       "26  0.141117    0.000000  -45.718234 -3.225671e-15\n",
       "27  0.161656    0.000000  -46.639432 -3.518288e-15\n",
       "28  0.179314    0.015661  -44.852440 -3.580254e-15\n",
       "29  0.156738    0.000000  -44.856075 -1.379086e-14"
      ]
     },
     "execution_count": 22,
     "metadata": {},
     "output_type": "execute_result"
    }
   ],
   "source": [
    "# %load solutions/solution_2.py\n",
    "result_cv = pd.DataFrame(\n",
    "    cross_validate(\n",
    "        regressor, X, y, cv=cv, scoring=\"neg_mean_absolute_error\",\n",
    "        return_train_score=True\n",
    "    )\n",
    ")\n",
    "result_cv"
   ]
  },
  {
   "cell_type": "code",
   "execution_count": 36,
   "metadata": {},
   "outputs": [],
   "source": [
    "# %load solutions/solution_3.py\n",
    "scores = result_cv[[\"train_score\", \"test_score\"]] * - 1\n",
    "scores.columns = scores.columns.str.replace(\"_\", \" \")"
   ]
  },
  {
   "cell_type": "markdown",
   "metadata": {},
   "source": [
    "### Effect of the sample size on the variance analysis"
   ]
  },
  {
   "cell_type": "markdown",
   "metadata": {},
   "source": [
    "We are quite lucky. Our dataset count many samples."
   ]
  },
  {
   "cell_type": "code",
   "execution_count": 28,
   "metadata": {},
   "outputs": [
    {
     "data": {
      "text/plain": [
       "20640"
      ]
     },
     "execution_count": 28,
     "metadata": {},
     "output_type": "execute_result"
    }
   ],
   "source": [
    "y.size"
   ]
  },
  {
   "cell_type": "markdown",
   "metadata": {},
   "source": [
    "Let's make an experiment and reduce the number of samples and repeat the previous experiment."
   ]
  },
  {
   "cell_type": "code",
   "execution_count": 29,
   "metadata": {},
   "outputs": [],
   "source": [
    "def make_cv_analysis(regressor, X, y):\n",
    "    cv = ShuffleSplit(n_splits=10, test_size=0.2)\n",
    "    result_cv = pd.DataFrame(\n",
    "        cross_validate(\n",
    "            regressor, X, y, cv=cv,\n",
    "            scoring=\"neg_mean_absolute_error\",\n",
    "            n_jobs=-1\n",
    "        )\n",
    "    )\n",
    "    return y.size, (result_cv[\"test_score\"] * -1).values"
   ]
  },
  {
   "cell_type": "markdown",
   "metadata": {},
   "source": [
    "<div class=\"alert alert-success\">\n",
    "    <b>EXERCISE</b>:\n",
    "     <ul>\n",
    "     <li>Make an experiment by subsampling the dataset and plotting the distribution of the generalization errors.</li>\n",
    "     <li>What can you conclude?</li>\n",
    "     </ul>\n",
    "</div>"
   ]
  },
  {
   "cell_type": "code",
   "execution_count": 37,
   "metadata": {},
   "outputs": [],
   "source": [
    "# %load solutions/solution_4.py\n",
    "sample_sizes = [100, 500, 1000, 5000, 10000, 15000, y.size]\n",
    "\n",
    "scores_sample_sizes = {}\n",
    "rng = np.random.RandomState(0)\n",
    "for n_samples in sample_sizes:\n",
    "    sample_idx = rng.choice(\n",
    "        np.arange(y.size), size=n_samples, replace=False\n",
    "    )\n",
    "    X_sampled, y_sampled = X.iloc[sample_idx], y[sample_idx]\n",
    "    size, score = make_cv_analysis(regressor, X_sampled, y_sampled)\n",
    "    scores_sample_sizes[size] = score\n",
    "\n",
    "scores_sample_sizes = pd.DataFrame(scores_sample_sizes)"
   ]
  },
  {
   "cell_type": "code",
   "execution_count": 40,
   "metadata": {},
   "outputs": [
    {
     "data": {
      "text/html": [
       "<div>\n",
       "<style scoped>\n",
       "    .dataframe tbody tr th:only-of-type {\n",
       "        vertical-align: middle;\n",
       "    }\n",
       "\n",
       "    .dataframe tbody tr th {\n",
       "        vertical-align: top;\n",
       "    }\n",
       "\n",
       "    .dataframe thead th {\n",
       "        text-align: right;\n",
       "    }\n",
       "</style>\n",
       "<table border=\"1\" class=\"dataframe\">\n",
       "  <thead>\n",
       "    <tr style=\"text-align: right;\">\n",
       "      <th></th>\n",
       "      <th>100</th>\n",
       "      <th>500</th>\n",
       "      <th>1000</th>\n",
       "      <th>5000</th>\n",
       "      <th>10000</th>\n",
       "      <th>15000</th>\n",
       "      <th>20640</th>\n",
       "    </tr>\n",
       "  </thead>\n",
       "  <tbody>\n",
       "    <tr>\n",
       "      <th>0</th>\n",
       "      <td>96.60005</td>\n",
       "      <td>69.71908</td>\n",
       "      <td>58.953065</td>\n",
       "      <td>49.976928</td>\n",
       "      <td>52.888895</td>\n",
       "      <td>47.136938</td>\n",
       "      <td>47.775964</td>\n",
       "    </tr>\n",
       "    <tr>\n",
       "      <th>1</th>\n",
       "      <td>69.92505</td>\n",
       "      <td>74.97508</td>\n",
       "      <td>66.971570</td>\n",
       "      <td>52.097946</td>\n",
       "      <td>48.878893</td>\n",
       "      <td>46.629444</td>\n",
       "      <td>46.611549</td>\n",
       "    </tr>\n",
       "    <tr>\n",
       "      <th>2</th>\n",
       "      <td>74.49000</td>\n",
       "      <td>63.13507</td>\n",
       "      <td>63.101575</td>\n",
       "      <td>51.320137</td>\n",
       "      <td>51.902700</td>\n",
       "      <td>47.521572</td>\n",
       "      <td>44.110261</td>\n",
       "    </tr>\n",
       "    <tr>\n",
       "      <th>3</th>\n",
       "      <td>102.34005</td>\n",
       "      <td>58.65804</td>\n",
       "      <td>59.485065</td>\n",
       "      <td>51.564340</td>\n",
       "      <td>48.128348</td>\n",
       "      <td>47.125508</td>\n",
       "      <td>46.930514</td>\n",
       "    </tr>\n",
       "    <tr>\n",
       "      <th>4</th>\n",
       "      <td>106.27520</td>\n",
       "      <td>64.55705</td>\n",
       "      <td>56.774065</td>\n",
       "      <td>50.825331</td>\n",
       "      <td>51.745842</td>\n",
       "      <td>45.974676</td>\n",
       "      <td>46.608375</td>\n",
       "    </tr>\n",
       "    <tr>\n",
       "      <th>5</th>\n",
       "      <td>74.43005</td>\n",
       "      <td>80.46409</td>\n",
       "      <td>56.348075</td>\n",
       "      <td>50.413248</td>\n",
       "      <td>53.181199</td>\n",
       "      <td>46.978642</td>\n",
       "      <td>46.645898</td>\n",
       "    </tr>\n",
       "    <tr>\n",
       "      <th>6</th>\n",
       "      <td>87.32010</td>\n",
       "      <td>64.31207</td>\n",
       "      <td>58.727070</td>\n",
       "      <td>54.300043</td>\n",
       "      <td>49.901198</td>\n",
       "      <td>48.687708</td>\n",
       "      <td>47.790811</td>\n",
       "    </tr>\n",
       "    <tr>\n",
       "      <th>7</th>\n",
       "      <td>70.19505</td>\n",
       "      <td>68.25207</td>\n",
       "      <td>70.482095</td>\n",
       "      <td>54.180040</td>\n",
       "      <td>50.671546</td>\n",
       "      <td>48.383367</td>\n",
       "      <td>46.044520</td>\n",
       "    </tr>\n",
       "    <tr>\n",
       "      <th>8</th>\n",
       "      <td>110.92510</td>\n",
       "      <td>67.07606</td>\n",
       "      <td>65.120085</td>\n",
       "      <td>52.965445</td>\n",
       "      <td>50.367495</td>\n",
       "      <td>46.625646</td>\n",
       "      <td>46.021410</td>\n",
       "    </tr>\n",
       "    <tr>\n",
       "      <th>9</th>\n",
       "      <td>71.32505</td>\n",
       "      <td>66.75304</td>\n",
       "      <td>62.197080</td>\n",
       "      <td>52.026036</td>\n",
       "      <td>49.056695</td>\n",
       "      <td>46.737609</td>\n",
       "      <td>47.180568</td>\n",
       "    </tr>\n",
       "  </tbody>\n",
       "</table>\n",
       "</div>"
      ],
      "text/plain": [
       "       100       500        1000       5000       10000      15000      20640\n",
       "0   96.60005  69.71908  58.953065  49.976928  52.888895  47.136938  47.775964\n",
       "1   69.92505  74.97508  66.971570  52.097946  48.878893  46.629444  46.611549\n",
       "2   74.49000  63.13507  63.101575  51.320137  51.902700  47.521572  44.110261\n",
       "3  102.34005  58.65804  59.485065  51.564340  48.128348  47.125508  46.930514\n",
       "4  106.27520  64.55705  56.774065  50.825331  51.745842  45.974676  46.608375\n",
       "5   74.43005  80.46409  56.348075  50.413248  53.181199  46.978642  46.645898\n",
       "6   87.32010  64.31207  58.727070  54.300043  49.901198  48.687708  47.790811\n",
       "7   70.19505  68.25207  70.482095  54.180040  50.671546  48.383367  46.044520\n",
       "8  110.92510  67.07606  65.120085  52.965445  50.367495  46.625646  46.021410\n",
       "9   71.32505  66.75304  62.197080  52.026036  49.056695  46.737609  47.180568"
      ]
     },
     "execution_count": 40,
     "metadata": {},
     "output_type": "execute_result"
    }
   ],
   "source": [
    "scores_sample_sizes"
   ]
  },
  {
   "cell_type": "markdown",
   "metadata": {},
   "source": [
    "We see that with a low number of samples, the variance is much larger. Indeed, for low number of sample, we cannot even trust our cross-validation and therefore cannot conclude anything about our regressor. Therefore, it is really important to make experiment with a large enough sample size to be sure about the conclusions which would be drawn."
   ]
  },
  {
   "cell_type": "markdown",
   "metadata": {},
   "source": [
    "### Comparing results with baseline and chance level"
   ]
  },
  {
   "cell_type": "markdown",
   "metadata": {},
   "source": [
    "Previously, we compare the generalization error by taking into account the target distribution. A good practice is to compare the generalization error with a dummy baseline and the chance level. In regression, we could use the `DummyRegressor` and predict the mean target without using the data. The chance level can be determined by permuting the labels and check the difference of result."
   ]
  },
  {
   "cell_type": "code",
   "execution_count": 38,
   "metadata": {},
   "outputs": [],
   "source": [
    "from sklearn.dummy import DummyRegressor\n",
    "\n",
    "dummy = DummyRegressor()\n",
    "result_dummy = cross_validate(\n",
    "    dummy, X, y, cv=cv, scoring=\"neg_mean_absolute_error\",\n",
    "    n_jobs=-1\n",
    ")"
   ]
  },
  {
   "cell_type": "code",
   "execution_count": 39,
   "metadata": {},
   "outputs": [],
   "source": [
    "from sklearn.model_selection import permutation_test_score\n",
    "\n",
    "score, permutation_score, pvalue = permutation_test_score(\n",
    "    regressor, X, y, cv=cv, scoring=\"neg_mean_absolute_error\",\n",
    "    n_jobs=-1, n_permutations=10,\n",
    ")"
   ]
  },
  {
   "cell_type": "markdown",
   "metadata": {},
   "source": [
    "We plot the generalization errors for each of the experiment. We see that even our regressor does not perform well, it is far above chances our a regressor that would predict the mean target."
   ]
  },
  {
   "cell_type": "code",
   "execution_count": 41,
   "metadata": {},
   "outputs": [],
   "source": [
    "final_result = pd.concat(\n",
    "    [\n",
    "        result_cv[\"test_score\"] * -1,\n",
    "        pd.Series(result_dummy[\"test_score\"]) * -1,\n",
    "        pd.Series(permutation_score) * -1,\n",
    "    ], axis=1\n",
    ").rename(columns={\n",
    "    \"test_score\": \"Cross-validation score\",\n",
    "    0: \"Dummy score\",\n",
    "    1: \"Permuted score\",\n",
    "})"
   ]
  },
  {
   "cell_type": "code",
   "execution_count": 45,
   "metadata": {},
   "outputs": [
    {
     "data": {
      "text/html": [
       "<div>\n",
       "<style scoped>\n",
       "    .dataframe tbody tr th:only-of-type {\n",
       "        vertical-align: middle;\n",
       "    }\n",
       "\n",
       "    .dataframe tbody tr th {\n",
       "        vertical-align: top;\n",
       "    }\n",
       "\n",
       "    .dataframe thead th {\n",
       "        text-align: right;\n",
       "    }\n",
       "</style>\n",
       "<table border=\"1\" class=\"dataframe\">\n",
       "  <thead>\n",
       "    <tr style=\"text-align: right;\">\n",
       "      <th></th>\n",
       "      <th>Cross-validation score</th>\n",
       "      <th>Dummy score</th>\n",
       "      <th>Permuted score</th>\n",
       "    </tr>\n",
       "  </thead>\n",
       "  <tbody>\n",
       "    <tr>\n",
       "      <th>0</th>\n",
       "      <td>46.483084</td>\n",
       "      <td>90.236576</td>\n",
       "      <td>129.356988</td>\n",
       "    </tr>\n",
       "    <tr>\n",
       "      <th>1</th>\n",
       "      <td>44.020582</td>\n",
       "      <td>89.728469</td>\n",
       "      <td>129.175585</td>\n",
       "    </tr>\n",
       "    <tr>\n",
       "      <th>2</th>\n",
       "      <td>47.056152</td>\n",
       "      <td>92.961935</td>\n",
       "      <td>128.632746</td>\n",
       "    </tr>\n",
       "    <tr>\n",
       "      <th>3</th>\n",
       "      <td>45.522350</td>\n",
       "      <td>89.880414</td>\n",
       "      <td>129.720731</td>\n",
       "    </tr>\n",
       "    <tr>\n",
       "      <th>4</th>\n",
       "      <td>46.979793</td>\n",
       "      <td>91.611530</td>\n",
       "      <td>128.204821</td>\n",
       "    </tr>\n",
       "    <tr>\n",
       "      <th>5</th>\n",
       "      <td>47.228047</td>\n",
       "      <td>90.735539</td>\n",
       "      <td>129.675223</td>\n",
       "    </tr>\n",
       "    <tr>\n",
       "      <th>6</th>\n",
       "      <td>45.308155</td>\n",
       "      <td>90.731088</td>\n",
       "      <td>129.274202</td>\n",
       "    </tr>\n",
       "    <tr>\n",
       "      <th>7</th>\n",
       "      <td>45.412370</td>\n",
       "      <td>90.496813</td>\n",
       "      <td>129.348483</td>\n",
       "    </tr>\n",
       "    <tr>\n",
       "      <th>8</th>\n",
       "      <td>46.390252</td>\n",
       "      <td>90.909111</td>\n",
       "      <td>128.594852</td>\n",
       "    </tr>\n",
       "    <tr>\n",
       "      <th>9</th>\n",
       "      <td>47.275115</td>\n",
       "      <td>90.949023</td>\n",
       "      <td>129.424134</td>\n",
       "    </tr>\n",
       "    <tr>\n",
       "      <th>10</th>\n",
       "      <td>45.935623</td>\n",
       "      <td>90.607760</td>\n",
       "      <td>NaN</td>\n",
       "    </tr>\n",
       "    <tr>\n",
       "      <th>11</th>\n",
       "      <td>47.515398</td>\n",
       "      <td>92.259747</td>\n",
       "      <td>NaN</td>\n",
       "    </tr>\n",
       "    <tr>\n",
       "      <th>12</th>\n",
       "      <td>46.186837</td>\n",
       "      <td>92.570412</td>\n",
       "      <td>NaN</td>\n",
       "    </tr>\n",
       "    <tr>\n",
       "      <th>13</th>\n",
       "      <td>46.670999</td>\n",
       "      <td>91.682510</td>\n",
       "      <td>NaN</td>\n",
       "    </tr>\n",
       "    <tr>\n",
       "      <th>14</th>\n",
       "      <td>43.833715</td>\n",
       "      <td>89.464052</td>\n",
       "      <td>NaN</td>\n",
       "    </tr>\n",
       "    <tr>\n",
       "      <th>15</th>\n",
       "      <td>45.903799</td>\n",
       "      <td>90.229452</td>\n",
       "      <td>NaN</td>\n",
       "    </tr>\n",
       "    <tr>\n",
       "      <th>16</th>\n",
       "      <td>45.805099</td>\n",
       "      <td>92.552451</td>\n",
       "      <td>NaN</td>\n",
       "    </tr>\n",
       "    <tr>\n",
       "      <th>17</th>\n",
       "      <td>45.871286</td>\n",
       "      <td>91.899532</td>\n",
       "      <td>NaN</td>\n",
       "    </tr>\n",
       "    <tr>\n",
       "      <th>18</th>\n",
       "      <td>44.904621</td>\n",
       "      <td>90.588999</td>\n",
       "      <td>NaN</td>\n",
       "    </tr>\n",
       "    <tr>\n",
       "      <th>19</th>\n",
       "      <td>46.194954</td>\n",
       "      <td>91.009632</td>\n",
       "      <td>NaN</td>\n",
       "    </tr>\n",
       "    <tr>\n",
       "      <th>20</th>\n",
       "      <td>46.222594</td>\n",
       "      <td>90.838745</td>\n",
       "      <td>NaN</td>\n",
       "    </tr>\n",
       "    <tr>\n",
       "      <th>21</th>\n",
       "      <td>43.632623</td>\n",
       "      <td>90.826901</td>\n",
       "      <td>NaN</td>\n",
       "    </tr>\n",
       "    <tr>\n",
       "      <th>22</th>\n",
       "      <td>47.132065</td>\n",
       "      <td>89.962686</td>\n",
       "      <td>NaN</td>\n",
       "    </tr>\n",
       "    <tr>\n",
       "      <th>23</th>\n",
       "      <td>45.679664</td>\n",
       "      <td>90.986523</td>\n",
       "      <td>NaN</td>\n",
       "    </tr>\n",
       "    <tr>\n",
       "      <th>24</th>\n",
       "      <td>45.734611</td>\n",
       "      <td>91.207914</td>\n",
       "      <td>NaN</td>\n",
       "    </tr>\n",
       "    <tr>\n",
       "      <th>25</th>\n",
       "      <td>45.666682</td>\n",
       "      <td>91.171839</td>\n",
       "      <td>NaN</td>\n",
       "    </tr>\n",
       "    <tr>\n",
       "      <th>26</th>\n",
       "      <td>45.718234</td>\n",
       "      <td>90.123554</td>\n",
       "      <td>NaN</td>\n",
       "    </tr>\n",
       "    <tr>\n",
       "      <th>27</th>\n",
       "      <td>46.639432</td>\n",
       "      <td>90.065282</td>\n",
       "      <td>NaN</td>\n",
       "    </tr>\n",
       "    <tr>\n",
       "      <th>28</th>\n",
       "      <td>44.852440</td>\n",
       "      <td>91.524524</td>\n",
       "      <td>NaN</td>\n",
       "    </tr>\n",
       "    <tr>\n",
       "      <th>29</th>\n",
       "      <td>44.856075</td>\n",
       "      <td>92.195962</td>\n",
       "      <td>NaN</td>\n",
       "    </tr>\n",
       "  </tbody>\n",
       "</table>\n",
       "</div>"
      ],
      "text/plain": [
       "    Cross-validation score  Dummy score  Permuted score\n",
       "0                46.483084    90.236576      129.356988\n",
       "1                44.020582    89.728469      129.175585\n",
       "2                47.056152    92.961935      128.632746\n",
       "3                45.522350    89.880414      129.720731\n",
       "4                46.979793    91.611530      128.204821\n",
       "5                47.228047    90.735539      129.675223\n",
       "6                45.308155    90.731088      129.274202\n",
       "7                45.412370    90.496813      129.348483\n",
       "8                46.390252    90.909111      128.594852\n",
       "9                47.275115    90.949023      129.424134\n",
       "10               45.935623    90.607760             NaN\n",
       "11               47.515398    92.259747             NaN\n",
       "12               46.186837    92.570412             NaN\n",
       "13               46.670999    91.682510             NaN\n",
       "14               43.833715    89.464052             NaN\n",
       "15               45.903799    90.229452             NaN\n",
       "16               45.805099    92.552451             NaN\n",
       "17               45.871286    91.899532             NaN\n",
       "18               44.904621    90.588999             NaN\n",
       "19               46.194954    91.009632             NaN\n",
       "20               46.222594    90.838745             NaN\n",
       "21               43.632623    90.826901             NaN\n",
       "22               47.132065    89.962686             NaN\n",
       "23               45.679664    90.986523             NaN\n",
       "24               45.734611    91.207914             NaN\n",
       "25               45.666682    91.171839             NaN\n",
       "26               45.718234    90.123554             NaN\n",
       "27               46.639432    90.065282             NaN\n",
       "28               44.852440    91.524524             NaN\n",
       "29               44.856075    92.195962             NaN"
      ]
     },
     "execution_count": 45,
     "metadata": {},
     "output_type": "execute_result"
    }
   ],
   "source": [
    "final_result"
   ]
  },
  {
   "cell_type": "markdown",
   "metadata": {},
   "source": [
    "## Choice of cross-validation"
   ]
  },
  {
   "cell_type": "markdown",
   "metadata": {},
   "source": [
    "<div class=\"alert alert-success\">\n",
    "    <b>EXERCISE</b>:\n",
    "     <ul>\n",
    "     <li>Is `ShuffleSplit` cross-validation always the best cross-validation to use?</li>\n",
    "     </ul>\n",
    "</div>"
   ]
  },
  {
   "cell_type": "markdown",
   "metadata": {},
   "source": [
    "Let's take an example of some financial quotes. These are the value of compagny  stocks with the time."
   ]
  },
  {
   "cell_type": "code",
   "execution_count": 46,
   "metadata": {},
   "outputs": [],
   "source": [
    "import pandas as pd\n",
    "import os\n",
    "from urllib.request import urlretrieve\n",
    "\n",
    "symbols = {'TOT': 'Total', 'XOM': 'Exxon', 'CVX': 'Chevron',\n",
    "           'COP': 'ConocoPhillips', 'VLO': 'Valero Energy'}\n",
    "\n",
    "quotes = pd.DataFrame()\n",
    "\n",
    "for symbol, name in symbols.items():\n",
    "    url = ('https://raw.githubusercontent.com/scikit-learn/examples-data/'\n",
    "           'master/financial-data/{}.csv')\n",
    "    filename = \"data/{}.csv\".format(symbol)\n",
    "    if not os.path.exists(filename):\n",
    "        urlretrieve(url.format(symbol), filename)\n",
    "    this_quote = pd.read_csv(filename)\n",
    "    quotes[name] = this_quote['open']\n",
    "quotes.index = pd.to_datetime(this_quote['date'])"
   ]
  },
  {
   "cell_type": "code",
   "execution_count": 47,
   "metadata": {},
   "outputs": [
    {
     "data": {
      "image/png": "[encoded data removed]",
      "text/plain": [
       "<Figure size 720x432 with 1 Axes>"
      ]
     },
     "metadata": {
      "needs_background": "light"
     },
     "output_type": "display_data"
    }
   ],
   "source": [
    "_, ax = plt.subplots(figsize=(10, 6))\n",
    "_ = quotes.plot(ax=ax)"
   ]
  },
  {
   "cell_type": "code",
   "execution_count": 48,
   "metadata": {},
   "outputs": [],
   "source": [
    "from sklearn.ensemble import GradientBoostingRegressor\n",
    "\n",
    "X, y = quotes.drop(columns=[\"Chevron\"]), quotes[\"Chevron\"]\n",
    "regressor = GradientBoostingRegressor()"
   ]
  },
  {
   "cell_type": "code",
   "execution_count": 49,
   "metadata": {},
   "outputs": [
    {
     "name": "stdout",
     "output_type": "stream",
     "text": [
      "Mean R2: 0.96\n"
     ]
    }
   ],
   "source": [
    "cv = ShuffleSplit(n_splits=30)\n",
    "result_cv = pd.DataFrame(\n",
    "    cross_validate(\n",
    "        regressor, X, y, cv=cv,\n",
    "    )\n",
    ")\n",
    "print(f'Mean R2: {result_cv[\"test_score\"].mean():.2f}')"
   ]
  },
  {
   "cell_type": "markdown",
   "metadata": {},
   "source": [
    "<div class=\"alert alert-success\">\n",
    "    <b>QUESTION</b>:\n",
    "     It seems that we have the perfect regressor. Is this normal?\n",
    "</div>"
   ]
  },
  {
   "cell_type": "code",
   "execution_count": 52,
   "metadata": {},
   "outputs": [
    {
     "name": "stdout",
     "output_type": "stream",
     "text": [
      "Mean R2: -2.10\n"
     ]
    }
   ],
   "source": [
    "# %load solutions/solution_5.py\n",
    "from sklearn.model_selection import TimeSeriesSplit\n",
    "\n",
    "cv = TimeSeriesSplit(n_splits=quotes.index.to_period(\"Q\").nunique())\n",
    "result_cv = pd.DataFrame(\n",
    "    cross_validate(\n",
    "        regressor, X, y, cv=cv,\n",
    "        groups=quotes.index.to_period(\"Q\"),\n",
    "    )\n",
    ")\n",
    "print(f'Mean R2: {result_cv[\"test_score\"].mean():.2f}')"
   ]
  },
  {
   "cell_type": "markdown",
   "metadata": {},
   "source": [
    "Let's check the different type of cross-validation that are available in scikit-learn:\n",
    "\n",
    "https://scikit-learn.org/stable/auto_examples/model_selection/plot_cv_indices.html#sphx-glr-auto-examples-model-selection-plot-cv-indices-py"
   ]
  },
  {
   "cell_type": "code",
   "execution_count": null,
   "metadata": {},
   "outputs": [],
   "source": []
  }
 ],
 "metadata": {
  "kernelspec": {
   "display_name": "Python 3",
   "language": "python",
   "name": "python3"
  },
  "language_info": {
   "codemirror_mode": {
    "name": "ipython",
    "version": 3
   },
   "file_extension": ".py",
   "mimetype": "text/x-python",
   "name": "python",
   "nbconvert_exporter": "python",
   "pygments_lexer": "ipython3",
   "version": "3.7.3"
  }
 },
 "nbformat": 4,
 "nbformat_minor": 4
}
